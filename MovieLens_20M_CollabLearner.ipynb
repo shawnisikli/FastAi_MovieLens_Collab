{
 "cells": [
  {
   "cell_type": "code",
   "execution_count": 1,
   "id": "42039466",
   "metadata": {},
   "outputs": [],
   "source": [
    "from fastbook import *"
   ]
  },
  {
   "cell_type": "code",
   "execution_count": 2,
   "id": "0be13219",
   "metadata": {},
   "outputs": [],
   "source": [
    "import pandas as pd\n",
    "import numpy as np"
   ]
  },
  {
   "cell_type": "code",
   "execution_count": 7,
   "id": "471022ee",
   "metadata": {},
   "outputs": [],
   "source": [
    "from fastai.collab import *\n",
    "from fastai.tabular.all import *\n",
    "path = \"C:/Users/shawn/.fastai/archive/ml-25m/ml-25m\""
   ]
  },
  {
   "cell_type": "code",
   "execution_count": 37,
   "id": "b8e0addc",
   "metadata": {},
   "outputs": [],
   "source": [
    "ratings = pd.read_csv(f\"{path}/ratings.csv\" , low_memory = False, names = ('user', 'movie', 'rating', 'timestamp'), header = None)"
   ]
  },
  {
   "cell_type": "code",
   "execution_count": 39,
   "id": "8e0aec0a",
   "metadata": {},
   "outputs": [],
   "source": [
    "ratings = ratings.drop(0).reset_index(drop=True)"
   ]
  },
  {
   "cell_type": "code",
   "execution_count": 40,
   "id": "2fca1813",
   "metadata": {},
   "outputs": [
    {
     "data": {
      "text/html": [
       "<div>\n",
       "<style scoped>\n",
       "    .dataframe tbody tr th:only-of-type {\n",
       "        vertical-align: middle;\n",
       "    }\n",
       "\n",
       "    .dataframe tbody tr th {\n",
       "        vertical-align: top;\n",
       "    }\n",
       "\n",
       "    .dataframe thead th {\n",
       "        text-align: right;\n",
       "    }\n",
       "</style>\n",
       "<table border=\"1\" class=\"dataframe\">\n",
       "  <thead>\n",
       "    <tr style=\"text-align: right;\">\n",
       "      <th></th>\n",
       "      <th>user</th>\n",
       "      <th>movie</th>\n",
       "      <th>rating</th>\n",
       "      <th>timestamp</th>\n",
       "    </tr>\n",
       "  </thead>\n",
       "  <tbody>\n",
       "    <tr>\n",
       "      <th>0</th>\n",
       "      <td>1</td>\n",
       "      <td>296</td>\n",
       "      <td>5.0</td>\n",
       "      <td>1147880044</td>\n",
       "    </tr>\n",
       "    <tr>\n",
       "      <th>1</th>\n",
       "      <td>1</td>\n",
       "      <td>306</td>\n",
       "      <td>3.5</td>\n",
       "      <td>1147868817</td>\n",
       "    </tr>\n",
       "    <tr>\n",
       "      <th>2</th>\n",
       "      <td>1</td>\n",
       "      <td>307</td>\n",
       "      <td>5.0</td>\n",
       "      <td>1147868828</td>\n",
       "    </tr>\n",
       "    <tr>\n",
       "      <th>3</th>\n",
       "      <td>1</td>\n",
       "      <td>665</td>\n",
       "      <td>5.0</td>\n",
       "      <td>1147878820</td>\n",
       "    </tr>\n",
       "    <tr>\n",
       "      <th>4</th>\n",
       "      <td>1</td>\n",
       "      <td>899</td>\n",
       "      <td>3.5</td>\n",
       "      <td>1147868510</td>\n",
       "    </tr>\n",
       "  </tbody>\n",
       "</table>\n",
       "</div>"
      ],
      "text/plain": [
       "  user movie rating   timestamp\n",
       "0    1   296    5.0  1147880044\n",
       "1    1   306    3.5  1147868817\n",
       "2    1   307    5.0  1147868828\n",
       "3    1   665    5.0  1147878820\n",
       "4    1   899    3.5  1147868510"
      ]
     },
     "execution_count": 40,
     "metadata": {},
     "output_type": "execute_result"
    }
   ],
   "source": [
    "ratings.head()"
   ]
  },
  {
   "cell_type": "code",
   "execution_count": 41,
   "id": "86827aeb",
   "metadata": {},
   "outputs": [],
   "source": [
    "movies = pd.read_csv(f\"{path}/movies.csv\", low_memory = False, usecols =(0,1), names = ('movie', 'title'), header=None)"
   ]
  },
  {
   "cell_type": "code",
   "execution_count": 42,
   "id": "e0802004",
   "metadata": {},
   "outputs": [],
   "source": [
    "movies = movies.drop(0).reset_index(drop=True)"
   ]
  },
  {
   "cell_type": "code",
   "execution_count": 43,
   "id": "2cb24ba2",
   "metadata": {},
   "outputs": [
    {
     "data": {
      "text/html": [
       "<div>\n",
       "<style scoped>\n",
       "    .dataframe tbody tr th:only-of-type {\n",
       "        vertical-align: middle;\n",
       "    }\n",
       "\n",
       "    .dataframe tbody tr th {\n",
       "        vertical-align: top;\n",
       "    }\n",
       "\n",
       "    .dataframe thead th {\n",
       "        text-align: right;\n",
       "    }\n",
       "</style>\n",
       "<table border=\"1\" class=\"dataframe\">\n",
       "  <thead>\n",
       "    <tr style=\"text-align: right;\">\n",
       "      <th></th>\n",
       "      <th>movie</th>\n",
       "      <th>title</th>\n",
       "    </tr>\n",
       "  </thead>\n",
       "  <tbody>\n",
       "    <tr>\n",
       "      <th>0</th>\n",
       "      <td>1</td>\n",
       "      <td>Toy Story (1995)</td>\n",
       "    </tr>\n",
       "    <tr>\n",
       "      <th>1</th>\n",
       "      <td>2</td>\n",
       "      <td>Jumanji (1995)</td>\n",
       "    </tr>\n",
       "    <tr>\n",
       "      <th>2</th>\n",
       "      <td>3</td>\n",
       "      <td>Grumpier Old Men (1995)</td>\n",
       "    </tr>\n",
       "    <tr>\n",
       "      <th>3</th>\n",
       "      <td>4</td>\n",
       "      <td>Waiting to Exhale (1995)</td>\n",
       "    </tr>\n",
       "    <tr>\n",
       "      <th>4</th>\n",
       "      <td>5</td>\n",
       "      <td>Father of the Bride Part II (1995)</td>\n",
       "    </tr>\n",
       "  </tbody>\n",
       "</table>\n",
       "</div>"
      ],
      "text/plain": [
       "  movie                               title\n",
       "0     1                    Toy Story (1995)\n",
       "1     2                      Jumanji (1995)\n",
       "2     3             Grumpier Old Men (1995)\n",
       "3     4            Waiting to Exhale (1995)\n",
       "4     5  Father of the Bride Part II (1995)"
      ]
     },
     "execution_count": 43,
     "metadata": {},
     "output_type": "execute_result"
    }
   ],
   "source": [
    "movies.head()"
   ]
  },
  {
   "cell_type": "code",
   "execution_count": 44,
   "id": "1c75fadc",
   "metadata": {},
   "outputs": [
    {
     "data": {
      "text/html": [
       "<div>\n",
       "<style scoped>\n",
       "    .dataframe tbody tr th:only-of-type {\n",
       "        vertical-align: middle;\n",
       "    }\n",
       "\n",
       "    .dataframe tbody tr th {\n",
       "        vertical-align: top;\n",
       "    }\n",
       "\n",
       "    .dataframe thead th {\n",
       "        text-align: right;\n",
       "    }\n",
       "</style>\n",
       "<table border=\"1\" class=\"dataframe\">\n",
       "  <thead>\n",
       "    <tr style=\"text-align: right;\">\n",
       "      <th></th>\n",
       "      <th>user</th>\n",
       "      <th>movie</th>\n",
       "      <th>rating</th>\n",
       "      <th>timestamp</th>\n",
       "      <th>title</th>\n",
       "    </tr>\n",
       "  </thead>\n",
       "  <tbody>\n",
       "    <tr>\n",
       "      <th>0</th>\n",
       "      <td>1</td>\n",
       "      <td>296</td>\n",
       "      <td>5.0</td>\n",
       "      <td>1147880044</td>\n",
       "      <td>Pulp Fiction (1994)</td>\n",
       "    </tr>\n",
       "    <tr>\n",
       "      <th>1</th>\n",
       "      <td>3</td>\n",
       "      <td>296</td>\n",
       "      <td>5.0</td>\n",
       "      <td>1439474476</td>\n",
       "      <td>Pulp Fiction (1994)</td>\n",
       "    </tr>\n",
       "    <tr>\n",
       "      <th>2</th>\n",
       "      <td>4</td>\n",
       "      <td>296</td>\n",
       "      <td>4.0</td>\n",
       "      <td>1573938898</td>\n",
       "      <td>Pulp Fiction (1994)</td>\n",
       "    </tr>\n",
       "    <tr>\n",
       "      <th>3</th>\n",
       "      <td>5</td>\n",
       "      <td>296</td>\n",
       "      <td>4.0</td>\n",
       "      <td>830786155</td>\n",
       "      <td>Pulp Fiction (1994)</td>\n",
       "    </tr>\n",
       "    <tr>\n",
       "      <th>4</th>\n",
       "      <td>7</td>\n",
       "      <td>296</td>\n",
       "      <td>4.0</td>\n",
       "      <td>835444730</td>\n",
       "      <td>Pulp Fiction (1994)</td>\n",
       "    </tr>\n",
       "  </tbody>\n",
       "</table>\n",
       "</div>"
      ],
      "text/plain": [
       "  user movie rating   timestamp                title\n",
       "0    1   296    5.0  1147880044  Pulp Fiction (1994)\n",
       "1    3   296    5.0  1439474476  Pulp Fiction (1994)\n",
       "2    4   296    4.0  1573938898  Pulp Fiction (1994)\n",
       "3    5   296    4.0   830786155  Pulp Fiction (1994)\n",
       "4    7   296    4.0   835444730  Pulp Fiction (1994)"
      ]
     },
     "execution_count": 44,
     "metadata": {},
     "output_type": "execute_result"
    }
   ],
   "source": [
    "ratings = ratings.merge(movies, on='movie')\n",
    "ratings.head()"
   ]
  },
  {
   "cell_type": "code",
   "execution_count": 46,
   "id": "aaf272fc",
   "metadata": {},
   "outputs": [],
   "source": [
    "ratings['user'] = pd.to_numeric(ratings['user'])\n",
    "ratings['movie'] = pd.to_numeric(ratings['movie'])\n",
    "ratings['rating'] = pd.to_numeric(ratings['rating'])\n",
    "ratings['timestamp'] = pd.to_numeric(ratings['timestamp'])\n",
    "movies['movie'] = pd.to_numeric(movies['movie'])"
   ]
  },
  {
   "cell_type": "code",
   "execution_count": 74,
   "id": "9ce05b1a",
   "metadata": {},
   "outputs": [
    {
     "data": {
      "text/html": [
       "<table border=\"1\" class=\"dataframe\">\n",
       "  <thead>\n",
       "    <tr style=\"text-align: right;\">\n",
       "      <th></th>\n",
       "      <th>user</th>\n",
       "      <th>title</th>\n",
       "      <th>rating</th>\n",
       "    </tr>\n",
       "  </thead>\n",
       "  <tbody>\n",
       "    <tr>\n",
       "      <th>0</th>\n",
       "      <td>140577</td>\n",
       "      <td>In Fear (2013)</td>\n",
       "      <td>3.0</td>\n",
       "    </tr>\n",
       "    <tr>\n",
       "      <th>1</th>\n",
       "      <td>75309</td>\n",
       "      <td>Remains (2011)</td>\n",
       "      <td>5.0</td>\n",
       "    </tr>\n",
       "    <tr>\n",
       "      <th>2</th>\n",
       "      <td>30041</td>\n",
       "      <td>Lord of the Rings: The Two Towers, The (2002)</td>\n",
       "      <td>4.0</td>\n",
       "    </tr>\n",
       "    <tr>\n",
       "      <th>3</th>\n",
       "      <td>106892</td>\n",
       "      <td>Little Shop of Horrors (1986)</td>\n",
       "      <td>2.0</td>\n",
       "    </tr>\n",
       "    <tr>\n",
       "      <th>4</th>\n",
       "      <td>3623</td>\n",
       "      <td>Shine (1996)</td>\n",
       "      <td>4.0</td>\n",
       "    </tr>\n",
       "    <tr>\n",
       "      <th>5</th>\n",
       "      <td>104640</td>\n",
       "      <td>Gone with the Wind (1939)</td>\n",
       "      <td>4.5</td>\n",
       "    </tr>\n",
       "    <tr>\n",
       "      <th>6</th>\n",
       "      <td>37174</td>\n",
       "      <td>Toy Story (1995)</td>\n",
       "      <td>3.0</td>\n",
       "    </tr>\n",
       "    <tr>\n",
       "      <th>7</th>\n",
       "      <td>80811</td>\n",
       "      <td>Willy Wonka &amp; the Chocolate Factory (1971)</td>\n",
       "      <td>3.0</td>\n",
       "    </tr>\n",
       "    <tr>\n",
       "      <th>8</th>\n",
       "      <td>89703</td>\n",
       "      <td>Apollo 13 (1995)</td>\n",
       "      <td>4.5</td>\n",
       "    </tr>\n",
       "    <tr>\n",
       "      <th>9</th>\n",
       "      <td>140196</td>\n",
       "      <td>Apocalypse Now (1979)</td>\n",
       "      <td>4.0</td>\n",
       "    </tr>\n",
       "  </tbody>\n",
       "</table>"
      ],
      "text/plain": [
       "<IPython.core.display.HTML object>"
      ]
     },
     "metadata": {},
     "output_type": "display_data"
    }
   ],
   "source": [
    "dls = CollabDataLoaders.from_df(ratings, item_name=\"title\", bs=128)\n",
    "dls.show_batch()"
   ]
  },
  {
   "cell_type": "code",
   "execution_count": 75,
   "id": "fe386468",
   "metadata": {},
   "outputs": [],
   "source": [
    "n_users = len(dls.classes['user'])\n",
    "n_movies = len(dls.classes['title'])\n",
    "# n_factors = 5\n",
    "\n",
    "# user_factors = torch.randn(n_users, n_factors)\n",
    "# movie_factors = torch.randn(n_movies, n_factors)"
   ]
  },
  {
   "cell_type": "code",
   "execution_count": 76,
   "id": "94e337a6",
   "metadata": {},
   "outputs": [
    {
     "data": {
      "text/plain": [
       "(162542, 58959)"
      ]
     },
     "execution_count": 76,
     "metadata": {},
     "output_type": "execute_result"
    }
   ],
   "source": [
    "n_users, n_movies, #len(user_factors), len(movie_factors)"
   ]
  },
  {
   "cell_type": "code",
   "execution_count": 77,
   "id": "8d35c5ba",
   "metadata": {},
   "outputs": [],
   "source": [
    "learn = collab_learner(dls, n_factors = 200, y_range=(0,5.5))"
   ]
  },
  {
   "cell_type": "code",
   "execution_count": null,
   "id": "33194ccf",
   "metadata": {},
   "outputs": [
    {
     "data": {
      "text/html": [
       "\n",
       "<style>\n",
       "    /* Turns off some styling */\n",
       "    progress {\n",
       "        /* gets rid of default border in Firefox and Opera. */\n",
       "        border: none;\n",
       "        /* Needs to be in here for Safari polyfill so background images work as expected. */\n",
       "        background-size: auto;\n",
       "    }\n",
       "    progress:not([value]), progress:not([value])::-webkit-progress-bar {\n",
       "        background: repeating-linear-gradient(45deg, #7e7e7e, #7e7e7e 10px, #5c5c5c 10px, #5c5c5c 20px);\n",
       "    }\n",
       "    .progress-bar-interrupted, .progress-bar-interrupted::-webkit-progress-bar {\n",
       "        background: #F44336;\n",
       "    }\n",
       "</style>\n"
      ],
      "text/plain": [
       "<IPython.core.display.HTML object>"
      ]
     },
     "metadata": {},
     "output_type": "display_data"
    },
    {
     "data": {
      "text/html": [
       "\n",
       "    <div>\n",
       "      <progress value='1' class='' max='5' style='width:300px; height:20px; vertical-align: middle;'></progress>\n",
       "      20.00% [1/5 1:03:12&lt;4:12:50]\n",
       "    </div>\n",
       "    \n",
       "<table border=\"1\" class=\"dataframe\">\n",
       "  <thead>\n",
       "    <tr style=\"text-align: left;\">\n",
       "      <th>epoch</th>\n",
       "      <th>train_loss</th>\n",
       "      <th>valid_loss</th>\n",
       "      <th>time</th>\n",
       "    </tr>\n",
       "  </thead>\n",
       "  <tbody>\n",
       "    <tr>\n",
       "      <td>0</td>\n",
       "      <td>0.943426</td>\n",
       "      <td>0.936087</td>\n",
       "      <td>1:03:12</td>\n",
       "    </tr>\n",
       "  </tbody>\n",
       "</table><p>\n",
       "\n",
       "    <div>\n",
       "      <progress value='6469' class='' max='156250' style='width:300px; height:20px; vertical-align: middle;'></progress>\n",
       "      4.14% [6469/156250 02:44&lt;1:03:20 0.9313]\n",
       "    </div>\n",
       "    "
      ],
      "text/plain": [
       "<IPython.core.display.HTML object>"
      ]
     },
     "metadata": {},
     "output_type": "display_data"
    }
   ],
   "source": [
    "learn.fit_one_cycle(5, 5e-3, wd=0.1)"
   ]
  },
  {
   "cell_type": "code",
   "execution_count": 55,
   "id": "b6eeabde",
   "metadata": {},
   "outputs": [
    {
     "data": {
      "text/plain": [
       "EmbeddingDotBias(\n",
       "  (u_weight): Embedding(162542, 50)\n",
       "  (i_weight): Embedding(58959, 50)\n",
       "  (u_bias): Embedding(162542, 1)\n",
       "  (i_bias): Embedding(58959, 1)\n",
       ")"
      ]
     },
     "execution_count": 55,
     "metadata": {},
     "output_type": "execute_result"
    }
   ],
   "source": [
    "learn.model"
   ]
  },
  {
   "cell_type": "code",
   "execution_count": 59,
   "id": "baa26bbf",
   "metadata": {},
   "outputs": [],
   "source": [
    "import pickle\n",
    "from pathlib import Path"
   ]
  },
  {
   "cell_type": "code",
   "execution_count": 60,
   "id": "5655bc82",
   "metadata": {},
   "outputs": [],
   "source": [
    "path = Path(\"C:/Users/shawn/.fastai/archive/ml-25m/ml-25m\")"
   ]
  },
  {
   "cell_type": "code",
   "execution_count": 62,
   "id": "0218ee3c",
   "metadata": {},
   "outputs": [],
   "source": [
    "save_path = Path(\"C:/Users/shawn/.fastai/models\")\n"
   ]
  },
  {
   "cell_type": "code",
   "execution_count": 63,
   "id": "5e78353b",
   "metadata": {},
   "outputs": [],
   "source": [
    "save_path.mkdir(parents=True, exist_ok=True)"
   ]
  },
  {
   "cell_type": "code",
   "execution_count": 64,
   "id": "80111a10",
   "metadata": {},
   "outputs": [],
   "source": [
    "learn.export(save_path/'collab_learner.pkl')"
   ]
  },
  {
   "cell_type": "code",
   "execution_count": null,
   "id": "b71783ef",
   "metadata": {},
   "outputs": [],
   "source": [
    "def recommended_movie(learn, movie_title, top_n = 5):\n",
    "    \n",
    "    movie_factors = learn.model.i_weight.weight\n",
    "    \n",
    "    idx = dls.classes['title'].o2i[movie_title]\n",
    "    \n",
    "    distances = nn.CosineSimilarity(dim=1)(movie_factors, movie_factors[idx][None])\n",
    "    \n",
    "    similar_movie_indices = distnaces.argsort(descending=True)[:top_n]\n",
    "    \n",
    "    similar_movies = dls.classes['title'][idx]\n",
    "    \n",
    "    return similar_movies"
   ]
  },
  {
   "cell_type": "code",
   "execution_count": null,
   "id": "728c38e0",
   "metadata": {},
   "outputs": [],
   "source": [
    "movie_title = \"Psycho III (1986)\"\n",
    "recommended_movies = recommended_movie(learn, movie_title, top_n = 5)\n",
    "for movie in recommended movie:\n",
    "    print(movie)"
   ]
  },
  {
   "cell_type": "code",
   "execution_count": 71,
   "id": "7c9dd79f",
   "metadata": {},
   "outputs": [
    {
     "data": {
      "text/plain": [
       "(#5) ['Batman Returns (1992)','Summer School (1987)','Cell, The (2000)','Towering Inferno, The (1974)','Green Card (1990)']"
      ]
     },
     "execution_count": 71,
     "metadata": {},
     "output_type": "execute_result"
    }
   ],
   "source": [
    "# movie_factors = learn.model.i_weight.weight\n",
    "# idx = dls.classes['title'].o2i['Batman Returns (1992)']\n",
    "# distances = nn.CosineSimilarity(dim=1)(movie_factors, movie_factors[idx][None])\n",
    "# idx = distances.argsort(descending=True)[:5]\n",
    "# dls.classes['title'][idx]"
   ]
  },
  {
   "cell_type": "code",
   "execution_count": null,
   "id": "e7ecc32c",
   "metadata": {},
   "outputs": [],
   "source": []
  }
 ],
 "metadata": {
  "kernelspec": {
   "display_name": "Python 3.10 (PyTorch)",
   "language": "python",
   "name": "python310"
  },
  "language_info": {
   "codemirror_mode": {
    "name": "ipython",
    "version": 3
   },
   "file_extension": ".py",
   "mimetype": "text/x-python",
   "name": "python",
   "nbconvert_exporter": "python",
   "pygments_lexer": "ipython3",
   "version": "3.11.5"
  },
  "varInspector": {
   "cols": {
    "lenName": 16,
    "lenType": 16,
    "lenVar": 40
   },
   "kernels_config": {
    "python": {
     "delete_cmd_postfix": "",
     "delete_cmd_prefix": "del ",
     "library": "var_list.py",
     "varRefreshCmd": "print(var_dic_list())"
    },
    "r": {
     "delete_cmd_postfix": ") ",
     "delete_cmd_prefix": "rm(",
     "library": "var_list.r",
     "varRefreshCmd": "cat(var_dic_list()) "
    }
   },
   "types_to_exclude": [
    "module",
    "function",
    "builtin_function_or_method",
    "instance",
    "_Feature"
   ],
   "window_display": false
  }
 },
 "nbformat": 4,
 "nbformat_minor": 5
}
